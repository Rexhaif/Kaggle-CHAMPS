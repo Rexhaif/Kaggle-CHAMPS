{
 "cells": [
  {
   "cell_type": "markdown",
   "metadata": {},
   "source": [
    "### competition metric"
   ]
  },
  {
   "cell_type": "code",
   "execution_count": 82,
   "metadata": {
    "_cell_guid": "b1076dfc-b9ad-4769-8c92-a6c4dae69d19",
    "_uuid": "8f2839f25d086af736a60e9eeb907d3b93b6e0e5"
   },
   "outputs": [],
   "source": [
    "import numpy as np # linear algebra\n",
    "import pandas as pd # data processing, CSV file I/O (e.g. pd.read_csv)\n",
    "import os\n",
    "from sklearn import metrics\n",
    "from tqdm import tqdm"
   ]
  },
  {
   "cell_type": "code",
   "execution_count": 54,
   "metadata": {
    "_cell_guid": "79c7e3d0-c299-4dcb-8224-4455121ee9b0",
    "_uuid": "d629ff2d2480ee46fbb7e2d37f6b5fab8052498a"
   },
   "outputs": [],
   "source": [
    "def metric(df, preds, verbose=True):\n",
    "    \n",
    "    if verbose:\n",
    "        iterator = lambda x: tqdm(x)\n",
    "    else:\n",
    "        iterator = list\n",
    "        \n",
    "    df[\"prediction\"] = list(preds)\n",
    "    maes = []\n",
    "    for t in iterator(df.type.unique()):\n",
    "        y_true = df[df.type==t].scalar_coupling_constant.values\n",
    "        y_pred = df[df.type==t].prediction.values\n",
    "        mae = np.log(metrics.mean_absolute_error(y_true, y_pred))\n",
    "        maes.append(mae)\n",
    "    return np.mean(maes)"
   ]
  },
  {
   "cell_type": "code",
   "execution_count": 94,
   "metadata": {},
   "outputs": [],
   "source": [
    "def mean_log_mae(y_true, y_pred, types, verbose=True):\n",
    "    if verbose:\n",
    "        iterator = lambda x: tqdm(x)\n",
    "    else:\n",
    "        iterator = list\n",
    "    \n",
    "    per_type_data = {\n",
    "        t : {\n",
    "            'true': [],\n",
    "            'pred': []\n",
    "        } \n",
    "        for t in list(set(types))\n",
    "    }\n",
    "    for true, pred, t in iterator(zip(y_true, y_pred, types)):\n",
    "        per_type_data[t]['true'].append(true)\n",
    "        per_type_data[t]['pred'].append(pred)\n",
    "        \n",
    "    maes = []\n",
    "    for t in iterator(set(types)):\n",
    "        maes.append(np.log(metrics.mean_absolute_error(per_type_data[t]['true'], per_type_data[t]['pred'])))\n",
    "        \n",
    "    return np.mean(maes)\n",
    "        "
   ]
  },
  {
   "cell_type": "code",
   "execution_count": 133,
   "metadata": {},
   "outputs": [],
   "source": [
    "def speedup_mean_log_mae(y_true, y_pred, types, verbose=True):\n",
    "    if verbose:\n",
    "        iterator = lambda x: tqdm(x)\n",
    "    else:\n",
    "        iterator = list\n",
    "    \n",
    "    per_type_data = {\n",
    "        t : {\n",
    "            'true': [],\n",
    "            'pred': []\n",
    "        } \n",
    "        for t in list(set(types))\n",
    "    }\n",
    "    for true, pred, t in iterator(zip(y_true, y_pred, types)):\n",
    "        per_type_data[t]['true'].append(true)\n",
    "        per_type_data[t]['pred'].append(pred)\n",
    "        \n",
    "    maes = []\n",
    "    for t in iterator(set(types)):\n",
    "        maes.append(\n",
    "            jit_log_mae(\n",
    "                np.array(per_type_data[t]['true'], dtype=np.float32),\n",
    "                np.array(per_type_data[t]['pred'], dtype=np.float32)\n",
    "            )\n",
    "        )\n",
    "        \n",
    "    return np.mean(maes)\n",
    "        "
   ]
  },
  {
   "cell_type": "code",
   "execution_count": 125,
   "metadata": {},
   "outputs": [],
   "source": [
    "from numba import jit, float32"
   ]
  },
  {
   "cell_type": "code",
   "execution_count": 126,
   "metadata": {},
   "outputs": [],
   "source": [
    "@jit(float32(float32[:], float32[:]))\n",
    "def jit_log_mae(y_true: np.ndarray, y_pred: np.ndarray):\n",
    "    n = y_true.shape[0]\n",
    "    return np.log(np.sum(np.absolute(y_true - y_pred))/n)"
   ]
  },
  {
   "cell_type": "code",
   "execution_count": 127,
   "metadata": {},
   "outputs": [],
   "source": [
    "@jit\n",
    "def jit_mean_log_mae(y_true, y_pred, types):\n",
    "    \n",
    "    uniq_types: np.ndarray = np.unique(types)\n",
    "    \n",
    "    per_type_data = {}\n",
    "    for t in uniq_types:\n",
    "        per_type_data[t] = {\n",
    "            'true': [],\n",
    "            'pred': []\n",
    "        }\n",
    "    \n",
    "    for true, pred, t in zip(y_true, y_pred, types):\n",
    "        per_type_data[t]['true'].append(true)\n",
    "        per_type_data[t]['pred'].append(pred)\n",
    "        \n",
    "    maes = []\n",
    "    for t in uniq_types:\n",
    "        maes.append(jit_log_mae(np.array(per_type_data[t]['true'], dtype=np.float32), np.array(per_type_data[t]['pred'], dtype=np.float32)))\n",
    "        \n",
    "    return np.mean(maes)\n",
    "        "
   ]
  },
  {
   "cell_type": "code",
   "execution_count": 105,
   "metadata": {},
   "outputs": [],
   "source": [
    "train = pd.read_csv(\"../data/train.csv\")"
   ]
  },
  {
   "cell_type": "code",
   "execution_count": 106,
   "metadata": {},
   "outputs": [],
   "source": [
    "train = train.sample(frac=10000/(len(train))).reset_index(drop=True)"
   ]
  },
  {
   "cell_type": "code",
   "execution_count": 129,
   "metadata": {},
   "outputs": [
    {
     "data": {
      "text/plain": [
       "2.0083879344165325"
      ]
     },
     "execution_count": 129,
     "metadata": {},
     "output_type": "execute_result"
    }
   ],
   "source": [
    "jit_mean_log_mae(train.scalar_coupling_constant, np.zeros(len(train)), train.type)"
   ]
  },
  {
   "cell_type": "code",
   "execution_count": 99,
   "metadata": {},
   "outputs": [],
   "source": [
    "zeros = np.zeros(len(train))"
   ]
  },
  {
   "cell_type": "code",
   "execution_count": 135,
   "metadata": {},
   "outputs": [
    {
     "name": "stdout",
     "output_type": "stream",
     "text": [
      "1.78 ms ± 6.33 µs per loop (mean ± std. dev. of 7 runs, 1000 loops each)\n"
     ]
    }
   ],
   "source": [
    "%%timeit -n 1000\n",
    "mean_log_mae(train.scalar_coupling_constant.values, zeros, train.type.values, verbose=False)"
   ]
  },
  {
   "cell_type": "code",
   "execution_count": 136,
   "metadata": {},
   "outputs": [
    {
     "name": "stdout",
     "output_type": "stream",
     "text": [
      "956 µs ± 10.5 µs per loop (mean ± std. dev. of 7 runs, 1000 loops each)\n"
     ]
    }
   ],
   "source": [
    "%%timeit -n 1000\n",
    "speedup_mean_log_mae(train.scalar_coupling_constant.values, zeros, train.type.values, verbose=False)"
   ]
  },
  {
   "cell_type": "code",
   "execution_count": 137,
   "metadata": {},
   "outputs": [
    {
     "name": "stdout",
     "output_type": "stream",
     "text": [
      "5.67 ms ± 40 µs per loop (mean ± std. dev. of 7 runs, 1000 loops each)\n"
     ]
    }
   ],
   "source": [
    "%%timeit -n 1000\n",
    "jit_mean_log_mae(train.scalar_coupling_constant.values, zeros, train.type.values)"
   ]
  },
  {
   "cell_type": "code",
   "execution_count": 138,
   "metadata": {},
   "outputs": [
    {
     "name": "stdout",
     "output_type": "stream",
     "text": [
      "18.8 ms ± 137 µs per loop (mean ± std. dev. of 7 runs, 1000 loops each)\n"
     ]
    }
   ],
   "source": [
    "%%timeit -n 1000\n",
    "metric(train, np.zeros(len(train)), verbose=False)"
   ]
  },
  {
   "cell_type": "code",
   "execution_count": 5,
   "metadata": {},
   "outputs": [],
   "source": []
  }
 ],
 "metadata": {
  "kernelspec": {
   "display_name": "Python 3",
   "language": "python",
   "name": "python3"
  },
  "language_info": {
   "codemirror_mode": {
    "name": "ipython",
    "version": 3
   },
   "file_extension": ".py",
   "mimetype": "text/x-python",
   "name": "python",
   "nbconvert_exporter": "python",
   "pygments_lexer": "ipython3",
   "version": "3.7.3"
  }
 },
 "nbformat": 4,
 "nbformat_minor": 1
}
