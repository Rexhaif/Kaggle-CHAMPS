{
 "cells": [
  {
   "cell_type": "code",
   "execution_count": 1,
   "metadata": {},
   "outputs": [],
   "source": [
    "import pandas as pd\n",
    "import numpy as np"
   ]
  },
  {
   "cell_type": "code",
   "execution_count": 2,
   "metadata": {},
   "outputs": [],
   "source": [
    "sub1 = pd.read_csv(\"../submits/Blending-24.07/ultrastacking-[-1.577].csv\")\n",
    "sub2 = pd.read_csv(\"../submits/LGB_nonCV_[-1.472210519015789].csv\")\n",
    "sub3 = pd.read_csv(\"../submits/Blending-24.07/LGB2019-07-24_-1.3617.csv\")\n",
    "sub4 = pd.read_csv(\"../submits/Blending-24.07/submission-giba-1.csv\")"
   ]
  },
  {
   "cell_type": "code",
   "execution_count": 3,
   "metadata": {},
   "outputs": [
    {
     "name": "stdout",
     "output_type": "stream",
     "text": [
      "count    2.505542e+06\n",
      "mean     1.588532e+01\n",
      "std      3.485557e+01\n",
      "min     -3.169338e+01\n",
      "25%     -2.063592e-01\n",
      "50%      2.291554e+00\n",
      "75%      7.303502e+00\n",
      "max      2.030896e+02\n",
      "Name: scalar_coupling_constant, dtype: float64\n",
      "count    2.505542e+06\n",
      "mean     1.588667e+01\n",
      "std      3.486553e+01\n",
      "min     -3.099046e+01\n",
      "25%     -2.375039e-01\n",
      "50%      2.290338e+00\n",
      "75%      7.357027e+00\n",
      "max      2.034109e+02\n",
      "Name: scalar_coupling_constant, dtype: float64\n",
      "count    2.505542e+06\n",
      "mean     1.588698e+01\n",
      "std      3.486004e+01\n",
      "min     -3.214408e+01\n",
      "25%     -2.201003e-01\n",
      "50%      2.301890e+00\n",
      "75%      7.291247e+00\n",
      "max      2.032716e+02\n",
      "Name: scalar_coupling_constant, dtype: float64\n",
      "count    2.505542e+06\n",
      "mean     1.588675e+01\n",
      "std      3.485679e+01\n",
      "min     -3.224456e+01\n",
      "25%     -2.086306e-01\n",
      "50%      2.305326e+00\n",
      "75%      7.255698e+00\n",
      "max      2.032142e+02\n",
      "Name: scalar_coupling_constant, dtype: float64\n"
     ]
    }
   ],
   "source": [
    "for i in [sub1, sub2, sub3, sub4]:\n",
    "    print(i['scalar_coupling_constant'].describe())"
   ]
  },
  {
   "cell_type": "code",
   "execution_count": 4,
   "metadata": {},
   "outputs": [],
   "source": [
    "best_submit = pd.DataFrame({\n",
    "    'id': sub1['id'],\n",
    "    'scalar_coupling_constant': np.zeros(len(sub1), dtype=np.float64)\n",
    "})"
   ]
  },
  {
   "cell_type": "code",
   "execution_count": 5,
   "metadata": {},
   "outputs": [],
   "source": [
    "best_submit['scalar_coupling_constant'] = 0.3*sub1.scalar_coupling_constant + 0.3*sub3.scalar_coupling_constant + 0.2*sub4.scalar_coupling_constant + 0.2*sub2.scalar_coupling_constant"
   ]
  },
  {
   "cell_type": "code",
   "execution_count": 6,
   "metadata": {},
   "outputs": [],
   "source": [
    "best_submit.to_csv(\"../submits/superstack_lgb_keras_giba-1.csv\", index=False, encoding='utf-8')"
   ]
  },
  {
   "cell_type": "code",
   "execution_count": 7,
   "metadata": {},
   "outputs": [
    {
     "name": "stdout",
     "output_type": "stream",
     "text": [
      "--2019-07-25 09:22:41--  https://www.kaggleusercontent.com/kf/17757704/eyJhbGciOiJkaXIiLCJlbmMiOiJBMTI4Q0JDLUhTMjU2In0..03PBvmE72c4JeKlyBBtKdw.8QyJ3xJMzvJZdj9HKI4CHGnlgw8OtVD9jA9bgjD7RhA1ODLJinspIhrdnll1UuVphbwTkqcrw0NEyzdeVmy-CDUXHJa0aNJkGZ299172qutLc9duxxbAerEGKckoNKjU3m7AreBfc6TU5FtMtY74LA.4zbsE5LvGKjxsM_Hp1SJRA/stackers_blend.csv\n",
      "Resolving www.kaggleusercontent.com (www.kaggleusercontent.com)... 35.190.26.106\n",
      "Connecting to www.kaggleusercontent.com (www.kaggleusercontent.com)|35.190.26.106|:443... connected.\n",
      "HTTP request sent, awaiting response... 200 OK\n",
      "Length: 67141745 (64M) [text/csv]\n",
      "Saving to: ‘stackers_blend.csv’\n",
      "\n",
      "stackers_blend.csv  100%[===================>]  64.03M  10.8MB/s    in 6.6s    \n",
      "\n",
      "2019-07-25 09:22:48 (9.63 MB/s) - ‘stackers_blend.csv’ saved [67141745/67141745]\n",
      "\n"
     ]
    }
   ],
   "source": [
    "!cd ../submits/Blending-24.07/ && wget https://www.kaggleusercontent.com/kf/17757704/eyJhbGciOiJkaXIiLCJlbmMiOiJBMTI4Q0JDLUhTMjU2In0..03PBvmE72c4JeKlyBBtKdw.8QyJ3xJMzvJZdj9HKI4CHGnlgw8OtVD9jA9bgjD7RhA1ODLJinspIhrdnll1UuVphbwTkqcrw0NEyzdeVmy-CDUXHJa0aNJkGZ299172qutLc9duxxbAerEGKckoNKjU3m7AreBfc6TU5FtMtY74LA.4zbsE5LvGKjxsM_Hp1SJRA/stackers_blend.csv"
   ]
  },
  {
   "cell_type": "code",
   "execution_count": 14,
   "metadata": {},
   "outputs": [],
   "source": [
    "submit = pd.read_csv(\"../data/raw/sample_submission.csv\")"
   ]
  },
  {
   "cell_type": "code",
   "execution_count": 15,
   "metadata": {},
   "outputs": [],
   "source": [
    "sub6 = pd.read_csv(\"../submits/Blending-24.07/ultrastacking-[-1.577].csv\")"
   ]
  },
  {
   "cell_type": "code",
   "execution_count": 16,
   "metadata": {},
   "outputs": [],
   "source": [
    "sub5 = pd.read_csv(\"../submits/Blending-24.07/stackers_blend.csv\")"
   ]
  },
  {
   "cell_type": "code",
   "execution_count": 17,
   "metadata": {},
   "outputs": [],
   "source": [
    "submit.scalar_coupling_constant = 0.7 * sub5.scalar_coupling_constant + 0.3 * sub6.scalar_coupling_constant"
   ]
  },
  {
   "cell_type": "code",
   "execution_count": 18,
   "metadata": {},
   "outputs": [],
   "source": [
    "submit.to_csv(\"../submits/Blending-24.07/ultrastacking-4.csv\", index=False, encoding='utf-8')"
   ]
  },
  {
   "cell_type": "code",
   "execution_count": null,
   "metadata": {},
   "outputs": [],
   "source": []
  }
 ],
 "metadata": {
  "kernelspec": {
   "display_name": "Python 3",
   "language": "python",
   "name": "python3"
  },
  "language_info": {
   "codemirror_mode": {
    "name": "ipython",
    "version": 3
   },
   "file_extension": ".py",
   "mimetype": "text/x-python",
   "name": "python",
   "nbconvert_exporter": "python",
   "pygments_lexer": "ipython3",
   "version": "3.7.3"
  }
 },
 "nbformat": 4,
 "nbformat_minor": 4
}
