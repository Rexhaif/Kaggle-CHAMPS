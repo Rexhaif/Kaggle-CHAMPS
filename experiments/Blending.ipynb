{
 "cells": [
  {
   "cell_type": "code",
   "execution_count": 3,
   "metadata": {},
   "outputs": [],
   "source": [
    "import pandas as pd\n",
    "import numpy as np"
   ]
  },
  {
   "cell_type": "code",
   "execution_count": 4,
   "metadata": {},
   "outputs": [],
   "source": [
    "lgb_best = pd.read_csv(\"../submits/LGB2019-07-20_-1.2465.csv\")\n",
    "keras_best = pd.read_csv(\"../submits/workingsubmission-test.csv (4).zip\")\n",
    "catboost_best = pd.read_csv(\"../submits/CatBoost_2019-07-19_-1.0257.csv\")\n",
    "giba_1 = pd.read_csv(\"../submits/submission-giba-1.csv\")\n",
    "giba_2 = pd.read_csv(\"../submits/submission-2.csv\")"
   ]
  },
  {
   "cell_type": "code",
   "execution_count": 6,
   "metadata": {},
   "outputs": [
    {
     "data": {
      "text/plain": [
       "count    2.505542e+06\n",
       "mean     1.588660e+01\n",
       "std      3.485805e+01\n",
       "min     -2.981006e+01\n",
       "25%     -2.161015e-01\n",
       "50%      2.307022e+00\n",
       "75%      7.271458e+00\n",
       "max      2.035082e+02\n",
       "Name: scalar_coupling_constant, dtype: float64"
      ]
     },
     "execution_count": 6,
     "metadata": {},
     "output_type": "execute_result"
    }
   ],
   "source": [
    "lgb_best['scalar_coupling_constant'].describe()"
   ]
  },
  {
   "cell_type": "code",
   "execution_count": 7,
   "metadata": {},
   "outputs": [
    {
     "data": {
      "text/plain": [
       "count    2.505542e+06\n",
       "mean     1.587673e+01\n",
       "std      3.483501e+01\n",
       "min     -3.224129e+01\n",
       "25%     -2.444809e-01\n",
       "50%      2.279864e+00\n",
       "75%      7.364342e+00\n",
       "max      2.032675e+02\n",
       "Name: scalar_coupling_constant, dtype: float64"
      ]
     },
     "execution_count": 7,
     "metadata": {},
     "output_type": "execute_result"
    }
   ],
   "source": [
    "keras_best['scalar_coupling_constant'].describe()"
   ]
  },
  {
   "cell_type": "code",
   "execution_count": 8,
   "metadata": {},
   "outputs": [
    {
     "data": {
      "text/plain": [
       "count    2.505542e+06\n",
       "mean     1.584706e+01\n",
       "std      3.483543e+01\n",
       "min     -2.351154e+01\n",
       "25%     -2.124518e-01\n",
       "50%      2.300031e+00\n",
       "75%      7.121728e+00\n",
       "max      2.028838e+02\n",
       "Name: scalar_coupling_constant, dtype: float64"
      ]
     },
     "execution_count": 8,
     "metadata": {},
     "output_type": "execute_result"
    }
   ],
   "source": [
    "catboost_best['scalar_coupling_constant'].describe()"
   ]
  },
  {
   "cell_type": "code",
   "execution_count": 9,
   "metadata": {},
   "outputs": [
    {
     "data": {
      "text/plain": [
       "count    2.505542e+06\n",
       "mean     1.588675e+01\n",
       "std      3.485679e+01\n",
       "min     -3.224456e+01\n",
       "25%     -2.086306e-01\n",
       "50%      2.305326e+00\n",
       "75%      7.255698e+00\n",
       "max      2.032142e+02\n",
       "Name: scalar_coupling_constant, dtype: float64"
      ]
     },
     "execution_count": 9,
     "metadata": {},
     "output_type": "execute_result"
    }
   ],
   "source": [
    "giba_1['scalar_coupling_constant'].describe()"
   ]
  },
  {
   "cell_type": "code",
   "execution_count": 10,
   "metadata": {},
   "outputs": [
    {
     "data": {
      "text/plain": [
       "count    2.505542e+06\n",
       "mean     1.588286e+01\n",
       "std      3.485328e+01\n",
       "min     -2.596652e+01\n",
       "25%     -2.057515e-01\n",
       "50%      2.307496e+00\n",
       "75%      7.243305e+00\n",
       "max      2.041965e+02\n",
       "Name: scalar_coupling_constant, dtype: float64"
      ]
     },
     "execution_count": 10,
     "metadata": {},
     "output_type": "execute_result"
    }
   ],
   "source": [
    "giba_2['scalar_coupling_constant'].describe()"
   ]
  },
  {
   "cell_type": "code",
   "execution_count": 13,
   "metadata": {},
   "outputs": [
    {
     "data": {
      "text/html": [
       "<div>\n",
       "<style scoped>\n",
       "    .dataframe tbody tr th:only-of-type {\n",
       "        vertical-align: middle;\n",
       "    }\n",
       "\n",
       "    .dataframe tbody tr th {\n",
       "        vertical-align: top;\n",
       "    }\n",
       "\n",
       "    .dataframe thead th {\n",
       "        text-align: right;\n",
       "    }\n",
       "</style>\n",
       "<table border=\"1\" class=\"dataframe\">\n",
       "  <thead>\n",
       "    <tr style=\"text-align: right;\">\n",
       "      <th></th>\n",
       "      <th>id</th>\n",
       "      <th>scalar_coupling_constant</th>\n",
       "    </tr>\n",
       "  </thead>\n",
       "  <tbody>\n",
       "    <tr>\n",
       "      <th>0</th>\n",
       "      <td>4658147</td>\n",
       "      <td>8.050019</td>\n",
       "    </tr>\n",
       "    <tr>\n",
       "      <th>1</th>\n",
       "      <td>4658148</td>\n",
       "      <td>146.705701</td>\n",
       "    </tr>\n",
       "    <tr>\n",
       "      <th>2</th>\n",
       "      <td>4658149</td>\n",
       "      <td>2.353982</td>\n",
       "    </tr>\n",
       "    <tr>\n",
       "      <th>3</th>\n",
       "      <td>4658150</td>\n",
       "      <td>146.985351</td>\n",
       "    </tr>\n",
       "    <tr>\n",
       "      <th>4</th>\n",
       "      <td>4658151</td>\n",
       "      <td>8.280352</td>\n",
       "    </tr>\n",
       "  </tbody>\n",
       "</table>\n",
       "</div>"
      ],
      "text/plain": [
       "        id  scalar_coupling_constant\n",
       "0  4658147                  8.050019\n",
       "1  4658148                146.705701\n",
       "2  4658149                  2.353982\n",
       "3  4658150                146.985351\n",
       "4  4658151                  8.280352"
      ]
     },
     "execution_count": 13,
     "metadata": {},
     "output_type": "execute_result"
    }
   ],
   "source": [
    "catboost_best.head()"
   ]
  },
  {
   "cell_type": "code",
   "execution_count": 15,
   "metadata": {},
   "outputs": [],
   "source": [
    "best_submit = pd.DataFrame({\n",
    "    'id': keras_best['id'],\n",
    "    'scalar_coupling_constant': np.zeros(len(keras_best), dtype=np.float64)\n",
    "})"
   ]
  },
  {
   "cell_type": "code",
   "execution_count": 17,
   "metadata": {},
   "outputs": [],
   "source": [
    "best_submit['scalar_coupling_constant'] = 0.2*lgb_best['scalar_coupling_constant'] + 0.2*catboost_best['scalar_coupling_constant'] + 0.2*keras_best['scalar_coupling_constant']+ 0.2*giba_1['scalar_coupling_constant']+ 0.2*giba_2['scalar_coupling_constant']"
   ]
  },
  {
   "cell_type": "code",
   "execution_count": 18,
   "metadata": {},
   "outputs": [],
   "source": [
    "best_submit.to_csv(\"../submits/ker-cat-lgb-giba1-2.csv\", index=False, encoding='utf-8')"
   ]
  },
  {
   "cell_type": "code",
   "execution_count": null,
   "metadata": {},
   "outputs": [],
   "source": []
  }
 ],
 "metadata": {
  "kernelspec": {
   "display_name": "Python 3",
   "language": "python",
   "name": "python3"
  },
  "language_info": {
   "codemirror_mode": {
    "name": "ipython",
    "version": 3
   },
   "file_extension": ".py",
   "mimetype": "text/x-python",
   "name": "python",
   "nbconvert_exporter": "python",
   "pygments_lexer": "ipython3",
   "version": "3.7.3"
  }
 },
 "nbformat": 4,
 "nbformat_minor": 2
}
