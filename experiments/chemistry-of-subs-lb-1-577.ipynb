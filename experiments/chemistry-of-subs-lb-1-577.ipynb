{
 "cells": [
  {
   "cell_type": "markdown",
   "metadata": {},
   "source": [
    "## Blend Or Stack\n",
    "**After watching top kernal many of them are blend and stacking.**\n",
    "\n",
    "This show how the scores can be imporved by add more models.\n",
    "Thanks for show this kernals.\n",
    "\n",
    "ref:\n",
    "1. https://www.kaggle.com/danmusetoiu/staking-and-stealing-like-a-molecule\n",
    "2. https://www.kaggle.com/marcelotamashiro/lgb-public-kernels-plus-more-features\n",
    "3. https://www.kaggle.com/rajwardhanshinde/blend-of-blends\n",
    "4. https://www.kaggle.com/vaishvik25/blend\n",
    "\n"
   ]
  },
  {
   "cell_type": "markdown",
   "metadata": {},
   "source": [
    "## <font color=blue>Vote early and vote often!</font>\n"
   ]
  },
  {
   "cell_type": "markdown",
   "metadata": {},
   "source": [
    "## Stat Stack"
   ]
  },
  {
   "cell_type": "code",
   "execution_count": 1,
   "metadata": {
    "_cell_guid": "b1076dfc-b9ad-4769-8c92-a6c4dae69d19",
    "_uuid": "8f2839f25d086af736a60e9eeb907d3b93b6e0e5"
   },
   "outputs": [
    {
     "name": "stdout",
     "output_type": "stream",
     "text": [
      "Blending-24.07\n",
      "CatBoost_2019-07-19_-1.0257.csv\n",
      "CatBoost_2019-07-19_-1.0257.csv.gz\n",
      "Catboost40k2019-07-20_-1.0927.csv.gz\n",
      "Catboost40k2019-07-20_0.0000.csv.gz\n",
      "LGB2019-07-19_-1.2248.csv.gz\n",
      "LGB2019-07-20_-0.7576.csv.gz\n",
      "LGB2019-07-20_-1.2465.csv\n",
      "LGB2019-07-24_-1.3617.csv\n",
      "LGB_2019-07-18_0.0000.csv.zip\n",
      "LGB_nonCV_[-1.472210519015789].csv\n",
      "ker-cat-lgb-giba1-2.csv\n",
      "sub_lgb_model_individual.csv\n",
      "submission-2.csv\n",
      "submission-giba-1.csv\n",
      "superstack_lgb_keras_giba-1.csv\n",
      "superstack_lgb_keras_giba-[-1.544].csv\n",
      "workingkit-2019-07-18 22:10:41.465757--0.44098349186482066.csv.zip\n",
      "workingkit-2019-07-18 22:55:11.738198--0.5312077592520859.csv.zip\n",
      "workingsubmission-test.csv\n",
      "workingsubmission-test.csv (4).zip\n",
      "workingsubmission-test.csv.zip\n",
      "\n"
     ]
    }
   ],
   "source": [
    "import os\n",
    "import numpy as np \n",
    "import pandas as pd \n",
    "import matplotlib.pyplot as plt\n",
    "import seaborn as sns\n",
    "%matplotlib inline\n",
    "from subprocess import check_output\n",
    "print(check_output([\"ls\", \"../submits/\"]).decode(\"utf8\"))"
   ]
  },
  {
   "cell_type": "code",
   "execution_count": 3,
   "metadata": {},
   "outputs": [
    {
     "name": "stdout",
     "output_type": "stream",
     "text": [
      "LGB2019-07-24_-1.3617.csv\n",
      "keras-champs-[-1.084].csv.zip\n",
      "stack_median.csv.zip\n",
      "stackers_blend.csv\n",
      "sub_lgb_model_individual.csv.zip\n",
      "submission-[-1.587].csv\n",
      "submission-giba-1.csv\n",
      "ultrastacking-2.csv\n",
      "ultrastacking-3.csv\n",
      "ultrastacking-4.csv\n",
      "ultrastacking-[-1.577].csv\n",
      "\n"
     ]
    }
   ],
   "source": [
    "print(check_output(['ls', '../submits/Blending-24.07/']).decode('utf-8'))"
   ]
  },
  {
   "cell_type": "code",
   "execution_count": 4,
   "metadata": {},
   "outputs": [],
   "source": [
    "all_files = [\n",
    "    '../submits/Blending-24.07/submission-[-1.587].csv',\n",
    "    \"../submits/Blending-24.07/ultrastacking-[-1.577].csv\",\n",
    "    '../submits/LGB_nonCV_[-1.472210519015789].csv',\n",
    "    '../submits/Blending-24.07/stackers_blend.csv'\n",
    "]"
   ]
  },
  {
   "cell_type": "code",
   "execution_count": 6,
   "metadata": {
    "_cell_guid": "79c7e3d0-c299-4dcb-8224-4455121ee9b0",
    "_uuid": "d629ff2d2480ee46fbb7e2d37f6b5fab8052498a"
   },
   "outputs": [
    {
     "name": "stderr",
     "output_type": "stream",
     "text": [
      "/usr/local/lib/python3.7/dist-packages/numpy/lib/arraysetops.py:569: FutureWarning: elementwise comparison failed; returning scalar instead, but in the future will perform elementwise comparison\n",
      "  mask |= (ar1 == a)\n"
     ]
    }
   ],
   "source": [
    "outs = [pd.read_csv(path, index_col=0) for path in all_files]\n",
    "concat_sub = pd.concat(outs, axis=1)\n",
    "cols = list(map(lambda x: \"mol\" + str(x), range(len(concat_sub.columns))))\n",
    "concat_sub.columns = cols\n",
    "concat_sub.reset_index(inplace=True)\n",
    "concat_sub.head()\n",
    "ncol = concat_sub.shape[1]"
   ]
  },
  {
   "cell_type": "code",
   "execution_count": 7,
   "metadata": {},
   "outputs": [
    {
     "data": {
      "text/html": [
       "<div>\n",
       "<style scoped>\n",
       "    .dataframe tbody tr th:only-of-type {\n",
       "        vertical-align: middle;\n",
       "    }\n",
       "\n",
       "    .dataframe tbody tr th {\n",
       "        vertical-align: top;\n",
       "    }\n",
       "\n",
       "    .dataframe thead th {\n",
       "        text-align: right;\n",
       "    }\n",
       "</style>\n",
       "<table border=\"1\" class=\"dataframe\">\n",
       "  <thead>\n",
       "    <tr style=\"text-align: right;\">\n",
       "      <th></th>\n",
       "      <th>mol0</th>\n",
       "      <th>mol1</th>\n",
       "      <th>mol2</th>\n",
       "      <th>mol3</th>\n",
       "    </tr>\n",
       "  </thead>\n",
       "  <tbody>\n",
       "    <tr>\n",
       "      <th>mol0</th>\n",
       "      <td>1.000000</td>\n",
       "      <td>0.999998</td>\n",
       "      <td>0.999926</td>\n",
       "      <td>0.999998</td>\n",
       "    </tr>\n",
       "    <tr>\n",
       "      <th>mol1</th>\n",
       "      <td>0.999998</td>\n",
       "      <td>1.000000</td>\n",
       "      <td>0.999926</td>\n",
       "      <td>0.999998</td>\n",
       "    </tr>\n",
       "    <tr>\n",
       "      <th>mol2</th>\n",
       "      <td>0.999926</td>\n",
       "      <td>0.999926</td>\n",
       "      <td>1.000000</td>\n",
       "      <td>0.999927</td>\n",
       "    </tr>\n",
       "    <tr>\n",
       "      <th>mol3</th>\n",
       "      <td>0.999998</td>\n",
       "      <td>0.999998</td>\n",
       "      <td>0.999927</td>\n",
       "      <td>1.000000</td>\n",
       "    </tr>\n",
       "  </tbody>\n",
       "</table>\n",
       "</div>"
      ],
      "text/plain": [
       "          mol0      mol1      mol2      mol3\n",
       "mol0  1.000000  0.999998  0.999926  0.999998\n",
       "mol1  0.999998  1.000000  0.999926  0.999998\n",
       "mol2  0.999926  0.999926  1.000000  0.999927\n",
       "mol3  0.999998  0.999998  0.999927  1.000000"
      ]
     },
     "execution_count": 7,
     "metadata": {},
     "output_type": "execute_result"
    }
   ],
   "source": [
    "# check correlation\n",
    "concat_sub.iloc[:,1:ncol].corr()"
   ]
  },
  {
   "cell_type": "code",
   "execution_count": 8,
   "metadata": {},
   "outputs": [
    {
     "data": {
      "text/plain": [
       "<matplotlib.axes._subplots.AxesSubplot at 0x7f1a945f8048>"
      ]
     },
     "execution_count": 8,
     "metadata": {},
     "output_type": "execute_result"
    },
    {
     "data": {
      "image/png": "[encoded data removed]",
      "text/plain": [
       "<Figure size 792x648 with 2 Axes>"
      ]
     },
     "metadata": {
      "needs_background": "light"
     },
     "output_type": "display_data"
    }
   ],
   "source": [
    "corr = concat_sub.iloc[:,1:7].corr()\n",
    "mask = np.zeros_like(corr, dtype=np.bool)\n",
    "mask[np.triu_indices_from(mask)] = True\n",
    "\n",
    "# Set up the matplotlib figure\n",
    "f, ax = plt.subplots(figsize=(11, 9))\n",
    "\n",
    "# Generate a custom diverging colormap\n",
    "cmap = sns.diverging_palette(220, 10, as_cmap=True)\n",
    "\n",
    "# Draw the heatmap with the mask and correct aspect ratio\n",
    "sns.heatmap(corr, mask=mask, cmap=cmap, vmax=.3, center=0,\n",
    "            square=True, linewidths=.5, cbar_kws={\"shrink\": .5})"
   ]
  },
  {
   "cell_type": "code",
   "execution_count": 9,
   "metadata": {},
   "outputs": [],
   "source": [
    "# get the data fields ready for stacking\n",
    "concat_sub['m_max'] = concat_sub.iloc[:, 1:ncol].max(axis=1)\n",
    "concat_sub['m_min'] = concat_sub.iloc[:, 1:ncol].min(axis=1)\n",
    "concat_sub['m_mean'] = concat_sub.iloc[:, 1:ncol].mean(axis=1)\n",
    "concat_sub['m_median'] = concat_sub.iloc[:, 1:ncol].median(axis=1)"
   ]
  },
  {
   "cell_type": "code",
   "execution_count": 10,
   "metadata": {},
   "outputs": [
    {
     "data": {
      "text/html": [
       "<div>\n",
       "<style scoped>\n",
       "    .dataframe tbody tr th:only-of-type {\n",
       "        vertical-align: middle;\n",
       "    }\n",
       "\n",
       "    .dataframe tbody tr th {\n",
       "        vertical-align: top;\n",
       "    }\n",
       "\n",
       "    .dataframe thead th {\n",
       "        text-align: right;\n",
       "    }\n",
       "</style>\n",
       "<table border=\"1\" class=\"dataframe\">\n",
       "  <thead>\n",
       "    <tr style=\"text-align: right;\">\n",
       "      <th></th>\n",
       "      <th>id</th>\n",
       "      <th>mol0</th>\n",
       "      <th>mol1</th>\n",
       "      <th>mol2</th>\n",
       "      <th>mol3</th>\n",
       "      <th>m_max</th>\n",
       "      <th>m_min</th>\n",
       "      <th>m_mean</th>\n",
       "      <th>m_median</th>\n",
       "    </tr>\n",
       "  </thead>\n",
       "  <tbody>\n",
       "    <tr>\n",
       "      <th>count</th>\n",
       "      <td>2.505542e+06</td>\n",
       "      <td>2.505542e+06</td>\n",
       "      <td>2.505542e+06</td>\n",
       "      <td>2.505542e+06</td>\n",
       "      <td>2.505542e+06</td>\n",
       "      <td>2.505542e+06</td>\n",
       "      <td>2.505542e+06</td>\n",
       "      <td>2.505542e+06</td>\n",
       "      <td>2.505542e+06</td>\n",
       "    </tr>\n",
       "    <tr>\n",
       "      <th>mean</th>\n",
       "      <td>5.910918e+06</td>\n",
       "      <td>1.588516e+01</td>\n",
       "      <td>1.588532e+01</td>\n",
       "      <td>1.588667e+01</td>\n",
       "      <td>1.588494e+01</td>\n",
       "      <td>1.602317e+01</td>\n",
       "      <td>1.574913e+01</td>\n",
       "      <td>1.588552e+01</td>\n",
       "      <td>1.588489e+01</td>\n",
       "    </tr>\n",
       "    <tr>\n",
       "      <th>std</th>\n",
       "      <td>7.232878e+05</td>\n",
       "      <td>3.485694e+01</td>\n",
       "      <td>3.485557e+01</td>\n",
       "      <td>3.486553e+01</td>\n",
       "      <td>3.485588e+01</td>\n",
       "      <td>3.492606e+01</td>\n",
       "      <td>3.479433e+01</td>\n",
       "      <td>3.485798e+01</td>\n",
       "      <td>3.485642e+01</td>\n",
       "    </tr>\n",
       "    <tr>\n",
       "      <th>min</th>\n",
       "      <td>4.658147e+06</td>\n",
       "      <td>-3.163485e+01</td>\n",
       "      <td>-3.169338e+01</td>\n",
       "      <td>-3.099046e+01</td>\n",
       "      <td>-3.128573e+01</td>\n",
       "      <td>-2.980706e+01</td>\n",
       "      <td>-3.169338e+01</td>\n",
       "      <td>-3.110526e+01</td>\n",
       "      <td>-3.146029e+01</td>\n",
       "    </tr>\n",
       "    <tr>\n",
       "      <th>25%</th>\n",
       "      <td>5.284532e+06</td>\n",
       "      <td>-2.100354e-01</td>\n",
       "      <td>-2.063592e-01</td>\n",
       "      <td>-2.375039e-01</td>\n",
       "      <td>-2.077760e-01</td>\n",
       "      <td>-1.338648e-01</td>\n",
       "      <td>-3.056570e-01</td>\n",
       "      <td>-2.111841e-01</td>\n",
       "      <td>-2.087777e-01</td>\n",
       "    </tr>\n",
       "    <tr>\n",
       "      <th>50%</th>\n",
       "      <td>5.910918e+06</td>\n",
       "      <td>2.288803e+00</td>\n",
       "      <td>2.291554e+00</td>\n",
       "      <td>2.290338e+00</td>\n",
       "      <td>2.290830e+00</td>\n",
       "      <td>2.391731e+00</td>\n",
       "      <td>2.186722e+00</td>\n",
       "      <td>2.290311e+00</td>\n",
       "      <td>2.290050e+00</td>\n",
       "    </tr>\n",
       "    <tr>\n",
       "      <th>75%</th>\n",
       "      <td>6.537303e+06</td>\n",
       "      <td>7.312868e+00</td>\n",
       "      <td>7.303502e+00</td>\n",
       "      <td>7.357027e+00</td>\n",
       "      <td>7.308802e+00</td>\n",
       "      <td>7.483236e+00</td>\n",
       "      <td>7.174359e+00</td>\n",
       "      <td>7.318124e+00</td>\n",
       "      <td>7.310364e+00</td>\n",
       "    </tr>\n",
       "    <tr>\n",
       "      <th>max</th>\n",
       "      <td>7.163688e+06</td>\n",
       "      <td>2.033617e+02</td>\n",
       "      <td>2.030896e+02</td>\n",
       "      <td>2.034109e+02</td>\n",
       "      <td>2.032603e+02</td>\n",
       "      <td>2.034109e+02</td>\n",
       "      <td>2.028780e+02</td>\n",
       "      <td>2.030423e+02</td>\n",
       "      <td>2.031750e+02</td>\n",
       "    </tr>\n",
       "  </tbody>\n",
       "</table>\n",
       "</div>"
      ],
      "text/plain": [
       "                 id          mol0          mol1          mol2          mol3  \\\n",
       "count  2.505542e+06  2.505542e+06  2.505542e+06  2.505542e+06  2.505542e+06   \n",
       "mean   5.910918e+06  1.588516e+01  1.588532e+01  1.588667e+01  1.588494e+01   \n",
       "std    7.232878e+05  3.485694e+01  3.485557e+01  3.486553e+01  3.485588e+01   \n",
       "min    4.658147e+06 -3.163485e+01 -3.169338e+01 -3.099046e+01 -3.128573e+01   \n",
       "25%    5.284532e+06 -2.100354e-01 -2.063592e-01 -2.375039e-01 -2.077760e-01   \n",
       "50%    5.910918e+06  2.288803e+00  2.291554e+00  2.290338e+00  2.290830e+00   \n",
       "75%    6.537303e+06  7.312868e+00  7.303502e+00  7.357027e+00  7.308802e+00   \n",
       "max    7.163688e+06  2.033617e+02  2.030896e+02  2.034109e+02  2.032603e+02   \n",
       "\n",
       "              m_max         m_min        m_mean      m_median  \n",
       "count  2.505542e+06  2.505542e+06  2.505542e+06  2.505542e+06  \n",
       "mean   1.602317e+01  1.574913e+01  1.588552e+01  1.588489e+01  \n",
       "std    3.492606e+01  3.479433e+01  3.485798e+01  3.485642e+01  \n",
       "min   -2.980706e+01 -3.169338e+01 -3.110526e+01 -3.146029e+01  \n",
       "25%   -1.338648e-01 -3.056570e-01 -2.111841e-01 -2.087777e-01  \n",
       "50%    2.391731e+00  2.186722e+00  2.290311e+00  2.290050e+00  \n",
       "75%    7.483236e+00  7.174359e+00  7.318124e+00  7.310364e+00  \n",
       "max    2.034109e+02  2.028780e+02  2.030423e+02  2.031750e+02  "
      ]
     },
     "execution_count": 10,
     "metadata": {},
     "output_type": "execute_result"
    }
   ],
   "source": [
    "concat_sub.describe()"
   ]
  },
  {
   "cell_type": "code",
   "execution_count": 11,
   "metadata": {},
   "outputs": [],
   "source": [
    "cutoff_lo = 0.8\n",
    "cutoff_hi = 0.2"
   ]
  },
  {
   "cell_type": "markdown",
   "metadata": {},
   "source": [
    "# Mean Stacking"
   ]
  },
  {
   "cell_type": "code",
   "execution_count": 12,
   "metadata": {},
   "outputs": [],
   "source": [
    "concat_sub['scalar_coupling_constant'] = concat_sub['m_mean']\n",
    "concat_sub[['id', 'scalar_coupling_constant']].to_csv('stack_mean.csv', \n",
    "                                        index=False, float_format='%.6f')"
   ]
  },
  {
   "cell_type": "markdown",
   "metadata": {},
   "source": [
    "# Median Stacking"
   ]
  },
  {
   "cell_type": "code",
   "execution_count": 13,
   "metadata": {},
   "outputs": [],
   "source": [
    "concat_sub['scalar_coupling_constant'] = concat_sub['m_median']\n",
    "concat_sub[['id', 'scalar_coupling_constant']].to_csv('stack_median.csv', \n",
    "                                        index=False, float_format='%.6f')"
   ]
  },
  {
   "cell_type": "markdown",
   "metadata": {},
   "source": [
    "# Pushout + Median Stacking\n",
    ">* Pushout strategy is bit aggresive"
   ]
  },
  {
   "cell_type": "code",
   "execution_count": 14,
   "metadata": {},
   "outputs": [],
   "source": [
    "concat_sub['scalar_coupling_constant'] = np.where(np.all(concat_sub.iloc[:,1:ncol] > cutoff_lo, axis=1), 1, \n",
    "                                    np.where(np.all(concat_sub.iloc[:,1:ncol] < cutoff_hi, axis=1),\n",
    "                                             0, concat_sub['m_median']))\n",
    "concat_sub[['id', 'scalar_coupling_constant']].to_csv('stack_pushout_median.csv', \n",
    "                                        index=False, float_format='%.6f')"
   ]
  },
  {
   "cell_type": "markdown",
   "metadata": {},
   "source": [
    "# MinMax + Mean Stacking\n",
    ">* MinMax seems more gentle and it outperforms the previous one"
   ]
  },
  {
   "cell_type": "code",
   "execution_count": 15,
   "metadata": {},
   "outputs": [],
   "source": [
    "concat_sub['scalar_coupling_constant'] = np.where(np.all(concat_sub.iloc[:,1:ncol] > cutoff_lo, axis=1), \n",
    "                                    concat_sub['m_max'], \n",
    "                                    np.where(np.all(concat_sub.iloc[:,1:ncol] < cutoff_hi, axis=1),\n",
    "                                             concat_sub['m_min'], \n",
    "                                             concat_sub['m_mean']))\n",
    "concat_sub[['id', 'scalar_coupling_constant']].to_csv('stack_minmax_mean.csv', \n",
    "                                        index=False, float_format='%.6f')"
   ]
  },
  {
   "cell_type": "markdown",
   "metadata": {},
   "source": [
    "# MinMax + Median Stacking"
   ]
  },
  {
   "cell_type": "code",
   "execution_count": 16,
   "metadata": {},
   "outputs": [],
   "source": [
    "concat_sub['scalar_coupling_constant'] = np.where(np.all(concat_sub.iloc[:,1:ncol] > cutoff_lo, axis=1), \n",
    "                                    concat_sub['m_max'], \n",
    "                                    np.where(np.all(concat_sub.iloc[:,1:ncol] < cutoff_hi, axis=1),\n",
    "                                             concat_sub['m_min'], \n",
    "                                             concat_sub['m_median']))\n",
    "concat_sub[['id', 'scalar_coupling_constant']].to_csv('stack_minmax_median.csv', \n",
    "                                        index=False, float_format='%.6f')"
   ]
  },
  {
   "cell_type": "markdown",
   "metadata": {},
   "source": [
    "## Averaging Ranks"
   ]
  },
  {
   "cell_type": "code",
   "execution_count": 17,
   "metadata": {},
   "outputs": [],
   "source": [
    "concat_sub['scalar_coupling_constant'] = concat_sub['mol0'].rank(method ='min') + concat_sub['mol1'].rank(method ='min') + concat_sub['mol2'].rank(method ='min') \n",
    "concat_sub['scalar_coupling_constant'] = (concat_sub['scalar_coupling_constant']-concat_sub['scalar_coupling_constant'].min())/(concat_sub['scalar_coupling_constant'].max() - concat_sub['scalar_coupling_constant'].min())\n",
    "concat_sub.describe()\n",
    "concat_sub[['id', 'scalar_coupling_constant']].to_csv('stack_rank.csv', index=False, float_format='%.8f')"
   ]
  },
  {
   "cell_type": "markdown",
   "metadata": {},
   "source": [
    "## Blend"
   ]
  },
  {
   "cell_type": "code",
   "execution_count": 20,
   "metadata": {},
   "outputs": [],
   "source": [
    "sub1=pd.read_csv('../submits/Blending-24.07/stackers_blend.csv')\n",
    "temp=pd.read_csv('../submits/Blending-24.07/stackers_blend.csv')"
   ]
  },
  {
   "cell_type": "code",
   "execution_count": 21,
   "metadata": {},
   "outputs": [],
   "source": [
    "sub2=pd.read_csv('./submission.csv')"
   ]
  },
  {
   "cell_type": "code",
   "execution_count": 22,
   "metadata": {},
   "outputs": [],
   "source": [
    "concat_sub['scalar_coupling_constant'] = 0.60*concat_sub['mol1'] + 0.40*concat_sub['mol2']\n",
    "concat_sub[['id', 'scalar_coupling_constant']].to_csv('s3.csv', index=False, float_format='%.8f')"
   ]
  },
  {
   "cell_type": "code",
   "execution_count": 23,
   "metadata": {},
   "outputs": [
    {
     "data": {
      "text/plain": [
       "<matplotlib.axes._subplots.AxesSubplot at 0x7f1a4d61c748>"
      ]
     },
     "execution_count": 23,
     "metadata": {},
     "output_type": "execute_result"
    },
    {
     "data": {
      "image/png": "[encoded data removed]",
      "text/plain": [
       "<Figure size 432x288 with 1 Axes>"
      ]
     },
     "metadata": {
      "needs_background": "light"
     },
     "output_type": "display_data"
    }
   ],
   "source": [
    "sns.distplot(concat_sub['scalar_coupling_constant'])"
   ]
  },
  {
   "cell_type": "code",
   "execution_count": 24,
   "metadata": {},
   "outputs": [],
   "source": [
    "temp['scalar_coupling_constant'] = 0.7*sub1['scalar_coupling_constant'] + 0.3*concat_sub['scalar_coupling_constant']\n",
    "temp.to_csv('submission2.csv', index=False )"
   ]
  },
  {
   "cell_type": "code",
   "execution_count": 27,
   "metadata": {},
   "outputs": [],
   "source": [
    "temp['scalar_coupling_constant'] = 0.7*sub2['scalar_coupling_constant'] + 0.25*sub1['scalar_coupling_constant'] + 0.05*concat_sub.scalar_coupling_constant\n",
    "temp.to_csv('submission4.csv', index=False )"
   ]
  },
  {
   "cell_type": "code",
   "execution_count": 28,
   "metadata": {},
   "outputs": [
    {
     "data": {
      "text/plain": [
       "<matplotlib.axes._subplots.AxesSubplot at 0x7f1a4d977160>"
      ]
     },
     "execution_count": 28,
     "metadata": {},
     "output_type": "execute_result"
    },
    {
     "data": {
      "image/png": "[encoded data removed]",
      "text/plain": [
       "<Figure size 432x288 with 1 Axes>"
      ]
     },
     "metadata": {
      "needs_background": "light"
     },
     "output_type": "display_data"
    }
   ],
   "source": [
    "sns.distplot(temp['scalar_coupling_constant'])"
   ]
  },
  {
   "cell_type": "markdown",
   "metadata": {},
   "source": [
    "submission4.csv gives best score.[ BLEND WINS ]\n",
    "## <font color=blue>Vote early and vote often!</font>\n"
   ]
  }
 ],
 "metadata": {
  "kernelspec": {
   "display_name": "Python 3",
   "language": "python",
   "name": "python3"
  },
  "language_info": {
   "codemirror_mode": {
    "name": "ipython",
    "version": 3
   },
   "file_extension": ".py",
   "mimetype": "text/x-python",
   "name": "python",
   "nbconvert_exporter": "python",
   "pygments_lexer": "ipython3",
   "version": "3.7.3"
  }
 },
 "nbformat": 4,
 "nbformat_minor": 1
}
