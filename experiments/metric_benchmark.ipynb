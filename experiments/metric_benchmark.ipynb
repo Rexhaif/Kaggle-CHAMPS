{
 "cells": [
  {
   "cell_type": "markdown",
   "metadata": {},
   "source": [
    "### competition metric"
   ]
  },
  {
   "cell_type": "code",
   "execution_count": 2,
   "metadata": {
    "_cell_guid": "b1076dfc-b9ad-4769-8c92-a6c4dae69d19",
    "_uuid": "8f2839f25d086af736a60e9eeb907d3b93b6e0e5"
   },
   "outputs": [],
   "source": [
    "import numpy as np # linear algebra\n",
    "import pandas as pd # data processing, CSV file I/O (e.g. pd.read_csv)\n",
    "import os\n",
    "from sklearn import metrics\n",
    "from tqdm import tqdm"
   ]
  },
  {
   "cell_type": "code",
   "execution_count": 22,
   "metadata": {},
   "outputs": [],
   "source": [
    "def comp_score (y_true, y_pred, jtype):\n",
    "    df = pd.DataFrame()\n",
    "    df['y_true'] , df['y_pred'], df['jtype'] = y_true , y_pred, jtype\n",
    "    score = 0 \n",
    "    for t in np.unique(jtype):\n",
    "        score_jtype = np.log(metrics.mean_absolute_error(df[df.jtype==t]['y_true'],df[df.jtype==t]['y_pred']))\n",
    "        score += score_jtype\n",
    "        #print(f'{t} : {score_jtype}')\n",
    "    score /= len(np.unique(jtype))\n",
    "    return score"
   ]
  },
  {
   "cell_type": "code",
   "execution_count": 23,
   "metadata": {
    "_cell_guid": "79c7e3d0-c299-4dcb-8224-4455121ee9b0",
    "_uuid": "d629ff2d2480ee46fbb7e2d37f6b5fab8052498a"
   },
   "outputs": [],
   "source": [
    "def metric(df, preds, verbose=True):\n",
    "    \n",
    "    if verbose:\n",
    "        iterator = lambda x: tqdm(x)\n",
    "    else:\n",
    "        iterator = list\n",
    "        \n",
    "    df[\"prediction\"] = list(preds)\n",
    "    maes = []\n",
    "    for t in iterator(df.type.unique()):\n",
    "        y_true = df[df.type==t].scalar_coupling_constant.values\n",
    "        y_pred = df[df.type==t].prediction.values\n",
    "        mae = np.log(metrics.mean_absolute_error(y_true, y_pred))\n",
    "        maes.append(mae)\n",
    "    return np.mean(maes)"
   ]
  },
  {
   "cell_type": "code",
   "execution_count": 24,
   "metadata": {},
   "outputs": [],
   "source": [
    "def group_mean_log_mae(y_true, y_pred, types, floor=1e-9):\n",
    "    \"\"\"\n",
    "    Fast metric computation for this competition: https://www.kaggle.com/c/champs-scalar-coupling\n",
    "    Code is from this kernel: https://www.kaggle.com/uberkinder/efficient-metric\n",
    "    \"\"\"\n",
    "    maes = (y_true-y_pred).abs().groupby(types).mean()\n",
    "    return np.log(maes.map(lambda x: max(x, floor))).mean()"
   ]
  },
  {
   "cell_type": "code",
   "execution_count": 25,
   "metadata": {},
   "outputs": [],
   "source": [
    "def mean_log_mae(y_true, y_pred, types, verbose=True):\n",
    "    if verbose:\n",
    "        iterator = lambda x: tqdm(x)\n",
    "    else:\n",
    "        iterator = list\n",
    "    \n",
    "    per_type_data = {\n",
    "        t : {\n",
    "            'true': [],\n",
    "            'pred': []\n",
    "        } \n",
    "        for t in list(set(types))\n",
    "    }\n",
    "    for true, pred, t in iterator(zip(y_true, y_pred, types)):\n",
    "        per_type_data[t]['true'].append(true)\n",
    "        per_type_data[t]['pred'].append(pred)\n",
    "        \n",
    "    maes = []\n",
    "    for t in iterator(set(types)):\n",
    "        maes.append(np.log(metrics.mean_absolute_error(per_type_data[t]['true'], per_type_data[t]['pred'])))\n",
    "        \n",
    "    return np.mean(maes)\n",
    "        "
   ]
  },
  {
   "cell_type": "code",
   "execution_count": 26,
   "metadata": {},
   "outputs": [],
   "source": [
    "def speedup_mean_log_mae(y_true, y_pred, types, verbose=True):\n",
    "    if verbose:\n",
    "        iterator = lambda x: tqdm(x)\n",
    "    else:\n",
    "        iterator = list\n",
    "    \n",
    "    per_type_data = {\n",
    "        t : {\n",
    "            'true': [],\n",
    "            'pred': []\n",
    "        } \n",
    "        for t in list(set(types))\n",
    "    }\n",
    "    for true, pred, t in iterator(zip(y_true, y_pred, types)):\n",
    "        per_type_data[t]['true'].append(true)\n",
    "        per_type_data[t]['pred'].append(pred)\n",
    "        \n",
    "    maes = []\n",
    "    for t in iterator(set(types)):\n",
    "        maes.append(\n",
    "            jit_log_mae(\n",
    "                np.array(per_type_data[t]['true'], dtype=np.float32),\n",
    "                np.array(per_type_data[t]['pred'], dtype=np.float32)\n",
    "            )\n",
    "        )\n",
    "        \n",
    "    return np.mean(maes)\n",
    "        "
   ]
  },
  {
   "cell_type": "code",
   "execution_count": 27,
   "metadata": {},
   "outputs": [],
   "source": [
    "from numba import jit, float32"
   ]
  },
  {
   "cell_type": "code",
   "execution_count": 28,
   "metadata": {},
   "outputs": [],
   "source": [
    "@jit(float32(float32[:], float32[:]))\n",
    "def jit_log_mae(y_true: np.ndarray, y_pred: np.ndarray):\n",
    "    n = y_true.shape[0]\n",
    "    return np.log(np.sum(np.absolute(y_true - y_pred))/n)"
   ]
  },
  {
   "cell_type": "code",
   "execution_count": 29,
   "metadata": {},
   "outputs": [],
   "source": [
    "@jit\n",
    "def jit_mean_log_mae(y_true, y_pred, types):\n",
    "    \n",
    "    uniq_types: np.ndarray = np.unique(types)\n",
    "    \n",
    "    per_type_data = dict()\n",
    "    for t in uniq_types:\n",
    "        per_type_data[t] = {\n",
    "            'true': [],\n",
    "            'pred': []\n",
    "        }\n",
    "    \n",
    "    for true, pred, t in zip(y_true, y_pred, types):\n",
    "        per_type_data[t]['true'].append(true)\n",
    "        per_type_data[t]['pred'].append(pred)\n",
    "        \n",
    "    maes = []\n",
    "    for t in uniq_types:\n",
    "        maes.append(jit_log_mae(np.array(per_type_data[t]['true'], dtype=np.float32), np.array(per_type_data[t]['pred'], dtype=np.float32)))\n",
    "        \n",
    "    return np.mean(maes)\n",
    "        "
   ]
  },
  {
   "cell_type": "code",
   "execution_count": 30,
   "metadata": {},
   "outputs": [],
   "source": [
    "train = pd.read_csv(\"../data/raw/train.csv\")"
   ]
  },
  {
   "cell_type": "code",
   "execution_count": 31,
   "metadata": {},
   "outputs": [],
   "source": [
    "train = train.sample(frac=1000/(len(train))).reset_index(drop=True)"
   ]
  },
  {
   "cell_type": "code",
   "execution_count": 32,
   "metadata": {},
   "outputs": [],
   "source": [
    "zeros = np.zeros(len(train))"
   ]
  },
  {
   "cell_type": "code",
   "execution_count": 33,
   "metadata": {},
   "outputs": [
    {
     "name": "stdout",
     "output_type": "stream",
     "text": [
      "1.44 ms ± 1.8 µs per loop (mean ± std. dev. of 7 runs, 1000 loops each)\n"
     ]
    }
   ],
   "source": [
    "%%timeit -n 1000\n",
    "mean_log_mae(train.scalar_coupling_constant.values, zeros, train.type.values, verbose=False)"
   ]
  },
  {
   "cell_type": "code",
   "execution_count": 34,
   "metadata": {},
   "outputs": [
    {
     "name": "stdout",
     "output_type": "stream",
     "text": [
      "1.87 ms ± 9.63 µs per loop (mean ± std. dev. of 7 runs, 1000 loops each)\n"
     ]
    }
   ],
   "source": [
    "%%timeit -n 1000\n",
    "group_mean_log_mae(train.scalar_coupling_constant, zeros, train.type)"
   ]
  },
  {
   "cell_type": "code",
   "execution_count": 35,
   "metadata": {},
   "outputs": [
    {
     "name": "stdout",
     "output_type": "stream",
     "text": [
      "637 µs ± 758 ns per loop (mean ± std. dev. of 7 runs, 1000 loops each)\n"
     ]
    }
   ],
   "source": [
    "%%timeit -n 1000\n",
    "speedup_mean_log_mae(train.scalar_coupling_constant.values, zeros, train.type.values, verbose=False)"
   ]
  },
  {
   "cell_type": "code",
   "execution_count": 36,
   "metadata": {},
   "outputs": [
    {
     "name": "stderr",
     "output_type": "stream",
     "text": [
      "<ipython-input-29-a9f264e3121e>:1: NumbaWarning: \n",
      "Compilation is falling back to object mode WITH looplifting enabled because Function \"jit_mean_log_mae\" failed type inference due to: non-precise type pyobject\n",
      "[1] During: typing of argument at <ipython-input-29-a9f264e3121e> (4)\n",
      "\n",
      "File \"<ipython-input-29-a9f264e3121e>\", line 4:\n",
      "def jit_mean_log_mae(y_true, y_pred, types):\n",
      "    <source elided>\n",
      "    \n",
      "    uniq_types: np.ndarray = np.unique(types)\n",
      "    ^\n",
      "\n",
      "  @jit\n",
      "<ipython-input-29-a9f264e3121e>:1: NumbaWarning: \n",
      "Compilation is falling back to object mode WITHOUT looplifting enabled because Function \"jit_mean_log_mae\" failed type inference due to: cannot determine Numba type of <class 'numba.dispatcher.LiftedLoop'>\n",
      "\n",
      "File \"<ipython-input-29-a9f264e3121e>\", line 7:\n",
      "def jit_mean_log_mae(y_true, y_pred, types):\n",
      "    <source elided>\n",
      "    per_type_data = dict()\n",
      "    for t in uniq_types:\n",
      "    ^\n",
      "\n",
      "  @jit\n",
      "/usr/local/lib/python3.7/dist-packages/numba/compiler.py:725: NumbaWarning: Function \"jit_mean_log_mae\" was compiled in object mode without forceobj=True, but has lifted loops.\n",
      "\n",
      "File \"<ipython-input-29-a9f264e3121e>\", line 2:\n",
      "@jit\n",
      "def jit_mean_log_mae(y_true, y_pred, types):\n",
      "^\n",
      "\n",
      "  self.func_ir.loc))\n",
      "/usr/local/lib/python3.7/dist-packages/numba/compiler.py:734: NumbaDeprecationWarning: \n",
      "Fall-back from the nopython compilation path to the object mode compilation path has been detected, this is deprecated behaviour.\n",
      "\n",
      "For more information visit http://numba.pydata.org/numba-doc/latest/reference/deprecation.html#deprecation-of-object-mode-fall-back-behaviour-when-using-jit\n",
      "\n",
      "File \"<ipython-input-29-a9f264e3121e>\", line 2:\n",
      "@jit\n",
      "def jit_mean_log_mae(y_true, y_pred, types):\n",
      "^\n",
      "\n",
      "  warnings.warn(errors.NumbaDeprecationWarning(msg, self.func_ir.loc))\n",
      "<ipython-input-29-a9f264e3121e>:1: NumbaWarning: \n",
      "Compilation is falling back to object mode WITHOUT looplifting enabled because Function \"jit_mean_log_mae\" failed type inference due to: non-precise type pyobject\n",
      "[1] During: typing of argument at <ipython-input-29-a9f264e3121e> (7)\n",
      "\n",
      "File \"<ipython-input-29-a9f264e3121e>\", line 7:\n",
      "def jit_mean_log_mae(y_true, y_pred, types):\n",
      "    <source elided>\n",
      "    per_type_data = dict()\n",
      "    for t in uniq_types:\n",
      "    ^\n",
      "\n",
      "  @jit\n",
      "/usr/local/lib/python3.7/dist-packages/numba/compiler.py:725: NumbaWarning: Function \"jit_mean_log_mae\" was compiled in object mode without forceobj=True.\n",
      "\n",
      "File \"<ipython-input-29-a9f264e3121e>\", line 7:\n",
      "def jit_mean_log_mae(y_true, y_pred, types):\n",
      "    <source elided>\n",
      "    per_type_data = dict()\n",
      "    for t in uniq_types:\n",
      "    ^\n",
      "\n",
      "  self.func_ir.loc))\n",
      "/usr/local/lib/python3.7/dist-packages/numba/compiler.py:734: NumbaDeprecationWarning: \n",
      "Fall-back from the nopython compilation path to the object mode compilation path has been detected, this is deprecated behaviour.\n",
      "\n",
      "For more information visit http://numba.pydata.org/numba-doc/latest/reference/deprecation.html#deprecation-of-object-mode-fall-back-behaviour-when-using-jit\n",
      "\n",
      "File \"<ipython-input-29-a9f264e3121e>\", line 7:\n",
      "def jit_mean_log_mae(y_true, y_pred, types):\n",
      "    <source elided>\n",
      "    per_type_data = dict()\n",
      "    for t in uniq_types:\n",
      "    ^\n",
      "\n",
      "  warnings.warn(errors.NumbaDeprecationWarning(msg, self.func_ir.loc))\n",
      "<ipython-input-29-a9f264e3121e>:1: NumbaWarning: \n",
      "Compilation is falling back to object mode WITHOUT looplifting enabled because Function \"jit_mean_log_mae\" failed type inference due to: non-precise type pyobject\n",
      "[1] During: typing of argument at <ipython-input-29-a9f264e3121e> (7)\n",
      "\n",
      "File \"<ipython-input-29-a9f264e3121e>\", line 7:\n",
      "def jit_mean_log_mae(y_true, y_pred, types):\n",
      "    <source elided>\n",
      "    per_type_data = dict()\n",
      "    for t in uniq_types:\n",
      "    ^\n",
      "\n",
      "  @jit\n",
      "/usr/local/lib/python3.7/dist-packages/numba/compiler.py:725: NumbaWarning: Function \"jit_mean_log_mae\" was compiled in object mode without forceobj=True.\n",
      "\n",
      "File \"<ipython-input-29-a9f264e3121e>\", line 7:\n",
      "def jit_mean_log_mae(y_true, y_pred, types):\n",
      "    <source elided>\n",
      "    per_type_data = dict()\n",
      "    for t in uniq_types:\n",
      "    ^\n",
      "\n",
      "  self.func_ir.loc))\n",
      "/usr/local/lib/python3.7/dist-packages/numba/compiler.py:734: NumbaDeprecationWarning: \n",
      "Fall-back from the nopython compilation path to the object mode compilation path has been detected, this is deprecated behaviour.\n",
      "\n",
      "For more information visit http://numba.pydata.org/numba-doc/latest/reference/deprecation.html#deprecation-of-object-mode-fall-back-behaviour-when-using-jit\n",
      "\n",
      "File \"<ipython-input-29-a9f264e3121e>\", line 7:\n",
      "def jit_mean_log_mae(y_true, y_pred, types):\n",
      "    <source elided>\n",
      "    per_type_data = dict()\n",
      "    for t in uniq_types:\n",
      "    ^\n",
      "\n",
      "  warnings.warn(errors.NumbaDeprecationWarning(msg, self.func_ir.loc))\n",
      "<ipython-input-29-a9f264e3121e>:1: NumbaWarning: \n",
      "Compilation is falling back to object mode WITHOUT looplifting enabled because Function \"jit_mean_log_mae\" failed type inference due to: non-precise type pyobject\n",
      "[1] During: typing of argument at <ipython-input-29-a9f264e3121e> (13)\n",
      "\n",
      "File \"<ipython-input-29-a9f264e3121e>\", line 13:\n",
      "def jit_mean_log_mae(y_true, y_pred, types):\n",
      "    <source elided>\n",
      "    \n",
      "    for true, pred, t in zip(y_true, y_pred, types):\n",
      "    ^\n",
      "\n",
      "  @jit\n",
      "/usr/local/lib/python3.7/dist-packages/numba/compiler.py:725: NumbaWarning: Function \"jit_mean_log_mae\" was compiled in object mode without forceobj=True.\n",
      "\n",
      "File \"<ipython-input-29-a9f264e3121e>\", line 13:\n",
      "def jit_mean_log_mae(y_true, y_pred, types):\n",
      "    <source elided>\n",
      "    \n",
      "    for true, pred, t in zip(y_true, y_pred, types):\n",
      "    ^\n",
      "\n",
      "  self.func_ir.loc))\n",
      "/usr/local/lib/python3.7/dist-packages/numba/compiler.py:734: NumbaDeprecationWarning: \n",
      "Fall-back from the nopython compilation path to the object mode compilation path has been detected, this is deprecated behaviour.\n",
      "\n",
      "For more information visit http://numba.pydata.org/numba-doc/latest/reference/deprecation.html#deprecation-of-object-mode-fall-back-behaviour-when-using-jit\n",
      "\n",
      "File \"<ipython-input-29-a9f264e3121e>\", line 13:\n",
      "def jit_mean_log_mae(y_true, y_pred, types):\n",
      "    <source elided>\n",
      "    \n",
      "    for true, pred, t in zip(y_true, y_pred, types):\n",
      "    ^\n",
      "\n",
      "  warnings.warn(errors.NumbaDeprecationWarning(msg, self.func_ir.loc))\n",
      "<ipython-input-29-a9f264e3121e>:1: NumbaWarning: \n",
      "Compilation is falling back to object mode WITHOUT looplifting enabled because Function \"jit_mean_log_mae\" failed type inference due to: non-precise type pyobject\n",
      "[1] During: typing of argument at <ipython-input-29-a9f264e3121e> (13)\n",
      "\n",
      "File \"<ipython-input-29-a9f264e3121e>\", line 13:\n",
      "def jit_mean_log_mae(y_true, y_pred, types):\n",
      "    <source elided>\n",
      "    \n",
      "    for true, pred, t in zip(y_true, y_pred, types):\n",
      "    ^\n",
      "\n",
      "  @jit\n",
      "<ipython-input-29-a9f264e3121e>:1: NumbaWarning: \n",
      "Compilation is falling back to object mode WITHOUT looplifting enabled because Function \"jit_mean_log_mae\" failed type inference due to: non-precise type pyobject\n",
      "[1] During: typing of argument at <ipython-input-29-a9f264e3121e> (18)\n",
      "\n",
      "File \"<ipython-input-29-a9f264e3121e>\", line 18:\n",
      "def jit_mean_log_mae(y_true, y_pred, types):\n",
      "    <source elided>\n",
      "    maes = []\n",
      "    for t in uniq_types:\n",
      "    ^\n",
      "\n",
      "  @jit\n",
      "/usr/local/lib/python3.7/dist-packages/numba/compiler.py:725: NumbaWarning: Function \"jit_mean_log_mae\" was compiled in object mode without forceobj=True.\n",
      "\n",
      "File \"<ipython-input-29-a9f264e3121e>\", line 18:\n",
      "def jit_mean_log_mae(y_true, y_pred, types):\n",
      "    <source elided>\n",
      "    maes = []\n",
      "    for t in uniq_types:\n",
      "    ^\n",
      "\n",
      "  self.func_ir.loc))\n",
      "/usr/local/lib/python3.7/dist-packages/numba/compiler.py:734: NumbaDeprecationWarning: \n",
      "Fall-back from the nopython compilation path to the object mode compilation path has been detected, this is deprecated behaviour.\n",
      "\n",
      "For more information visit http://numba.pydata.org/numba-doc/latest/reference/deprecation.html#deprecation-of-object-mode-fall-back-behaviour-when-using-jit\n",
      "\n",
      "File \"<ipython-input-29-a9f264e3121e>\", line 18:\n",
      "def jit_mean_log_mae(y_true, y_pred, types):\n",
      "    <source elided>\n",
      "    maes = []\n",
      "    for t in uniq_types:\n",
      "    ^\n",
      "\n",
      "  warnings.warn(errors.NumbaDeprecationWarning(msg, self.func_ir.loc))\n",
      "<ipython-input-29-a9f264e3121e>:1: NumbaWarning: \n",
      "Compilation is falling back to object mode WITHOUT looplifting enabled because Function \"jit_mean_log_mae\" failed type inference due to: non-precise type pyobject\n",
      "[1] During: typing of argument at <ipython-input-29-a9f264e3121e> (18)\n",
      "\n",
      "File \"<ipython-input-29-a9f264e3121e>\", line 18:\n",
      "def jit_mean_log_mae(y_true, y_pred, types):\n",
      "    <source elided>\n",
      "    maes = []\n",
      "    for t in uniq_types:\n",
      "    ^\n",
      "\n",
      "  @jit\n"
     ]
    },
    {
     "name": "stdout",
     "output_type": "stream",
     "text": [
      "1.2 ms ± 170 µs per loop (mean ± std. dev. of 7 runs, 1000 loops each)\n"
     ]
    }
   ],
   "source": [
    "%%timeit -n 1000\n",
    "jit_mean_log_mae(train.scalar_coupling_constant.values, zeros, train.type.values)"
   ]
  },
  {
   "cell_type": "code",
   "execution_count": 37,
   "metadata": {},
   "outputs": [
    {
     "name": "stdout",
     "output_type": "stream",
     "text": [
      "11.9 ms ± 120 µs per loop (mean ± std. dev. of 7 runs, 1000 loops each)\n"
     ]
    }
   ],
   "source": [
    "%%timeit -n 1000\n",
    "comp_score(train.scalar_coupling_constant.values, zeros, train.type.values)"
   ]
  },
  {
   "cell_type": "code",
   "execution_count": 15,
   "metadata": {},
   "outputs": [
    {
     "name": "stdout",
     "output_type": "stream",
     "text": [
      "20.5 ms ± 149 µs per loop (mean ± std. dev. of 7 runs, 1000 loops each)\n"
     ]
    }
   ],
   "source": [
    "%%timeit -n 1000\n",
    "metric(train, np.zeros(len(train)), verbose=False)"
   ]
  },
  {
   "cell_type": "code",
   "execution_count": 5,
   "metadata": {},
   "outputs": [],
   "source": []
  }
 ],
 "metadata": {
  "kernelspec": {
   "display_name": "Python 3",
   "language": "python",
   "name": "python3"
  },
  "language_info": {
   "codemirror_mode": {
    "name": "ipython",
    "version": 3
   },
   "file_extension": ".py",
   "mimetype": "text/x-python",
   "name": "python",
   "nbconvert_exporter": "python",
   "pygments_lexer": "ipython3",
   "version": "3.7.3"
  }
 },
 "nbformat": 4,
 "nbformat_minor": 1
}
